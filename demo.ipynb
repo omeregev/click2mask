{
 "cells": [
  {
   "metadata": {},
   "cell_type": "markdown",
   "source": [
    "# [AAAI 2025] Click2Mask: Local Editing with Dynamic Mask Generation\n",
    "\n",
    "Official Colab demo for [\"Click2Mask: Local Editing with Dynamic Mask Generation\"](https://omeregev.github.io/click2mask/) (AAAI 2025)\n",
    "\n",
    "**Paper by:** [Omer Regev](https://www.linkedin.com/in/omeregev/), [Omri Avrahami](https://omriavrahami.com/), [Dani Lischinski](https://www.cs.huji.ac.il/~danix/)\n",
    "\n",
    "[![Website](https://img.shields.io/badge/Website-blue?style=flat&logo=github)](https://omeregev.github.io/click2mask/)\n",
    "[![GitHub Code](https://img.shields.io/badge/GitHub-Code-blue?style=flat&logo=github)](https://github.com/omeregev/click2mask)\n",
    "[![Hugging Face Demo](https://img.shields.io/badge/🤗%20Hugging%20Face-Demo-yellow?style=flat)](https://huggingface.co/spaces/omeregev/click2mask)\n",
    "[![arXiv](https://img.shields.io/badge/arXiv-2409.08272-b31b1b?style=flat&logo=arxiv)](https://arxiv.org/abs/2409.08272)\n",
    "[![Paper PDF](https://img.shields.io/badge/Paper-PDF-red?style=flat&logo=adobe)](https://omeregev.github.io/click2mask/static/paper/Click2Mask.pdf)\n",
    "[![YouTube Video](https://img.shields.io/badge/Video-YouTube-red?style=flat&logo=youtube)](https://youtu.be/A0ZEVTm9SLw?si=_coDIWRXa8Wo-2na)\n",
    "\n",
    "Given an image, a <span style=\"white-space: nowrap;\">\n",
    "    <b>Click</b> <img src=\"https://raw.githubusercontent.com/omeregev/click2mask/main/imgs/point.png\" alt=\"click point\" width=\"10\" style=\"margin-right: 2px;\">\n",
    "</span>, and a prompt for an added object, a **Mask** is generated dynamically,\n",
    "simultaneously with the object generation throughout the diffusion process.\n",
    "\n",
    "Current methods rely on existing objects/segments, or user effort (masks/detailed text),\n",
    "to localize object additions. Our approach enables free-form editing,\n",
    "where the manipulated area is not well-defined, using just a  <span style=\"white-space: nowrap;\">\n",
    "    <b>Click</b> <img src=\"https://raw.githubusercontent.com/omeregev/click2mask/main/imgs/point.png\" alt=\"click point\" width=\"10\" style=\"margin-right: 2px;\">\n",
    "</span> for localization.\n",
    "\n",
    "## About This Colab\n",
    "\n",
    "This notebook provides two ways to run Click2Mask:\n",
    "\n",
    "1. **Gradio Interface** - Interactive web interface with point-and-click editing\n",
    "2. **Command Line Interface** - For batch processing and programmatic access\n",
    "\n",
    "## Getting Started\n",
    "\n",
    "1. **Enable GPU** (required)\n",
    "2. **Run the setup cells** to download and install dependencies\n",
    "3. **Choose your interface** - Run either the Gradio or CLI cells below\n",
    "<br><br>\n",
    "\n",
    "**📌 See generated examples, comparisons, citation, and acknowledgements below.**"
   ]
  },
  {
   "cell_type": "markdown",
   "source": [
    "---\n",
    "# ⚙️ Setup"
   ],
   "metadata": {
    "id": "Ca14fQPrLkpS"
   }
  },
  {
   "cell_type": "code",
   "execution_count": null,
   "metadata": {
    "collapsed": true,
    "id": "2qtuukpxMaeV"
   },
   "outputs": [],
   "source": [
    "!git clone https://github.com/omeregev/click2mask.git"
   ]
  },
  {
   "cell_type": "code",
   "source": [
    "# Install packages\n",
    "!pip install accelerate diffusers transformers pytorch-lightning kornia gradio loralib\n",
    "!pip install git+https://github.com/SunzeY/AlphaCLIP.git@3457474356108988bed7f0354a5cfeeeb8322aeb\n",
    "\n",
    "# # Install scikit-fmm\n",
    "# !pip install scikit-fmm\n",
    "# June 2025: Temporary fix for scikit-fmm. Can install as usual with \"!pip install scikit-fmm\" when scikit-fmm build is fixed.\n",
    "!apt-get install -y build-essential\n",
    "!pip install git+https://github.com/scikit-fmm/scikit-fmm.git"
   ],
   "metadata": {
    "collapsed": true,
    "id": "RGdfDSj3SZ16"
   },
   "execution_count": null,
   "outputs": []
  },
  {
   "cell_type": "code",
   "execution_count": null,
   "metadata": {
    "id": "mHpP-wrd_ACQ"
   },
   "outputs": [],
   "source": [
    "%cd /content/click2mask"
   ]
  },
  {
   "cell_type": "code",
   "source": [
    "!mkdir checkpoints\n",
    "!wget -P checkpoints https://download.openxlab.org.cn/models/SunzeY/AlphaCLIP/weight/clip_l14_336_grit1m_fultune_8xe.pth\n",
    "\n",
    "# If the above link is broken, you can use this Google Drive mirror: https://drive.google.com/file/d/1DeNbUv0lraDxJZItb7shTlvGW6z_Z9Si/view?usp=drive_link"
   ],
   "metadata": {
    "id": "jJHiE8HRW5QQ"
   },
   "execution_count": null,
   "outputs": []
  },
  {
   "cell_type": "markdown",
   "source": [
    "---\n",
    "# 🌐 Gradio Interface"
   ],
   "metadata": {
    "id": "LxNZBdLtWcCE"
   }
  },
  {
   "cell_type": "markdown",
   "source": [
    "> After running the Gradio cell, **you'll get a public URL to**:\n",
    "1. **Upload an image** or load example with the button below\n",
    "2. **Click on the image** where you want to add an object\n",
    "3. **Enter a text prompt** describing what you want to add\n",
    "4. **Click Generate**\n",
    "\n",
    "> **Note:** First run will take longer due to initial downloads"
   ],
   "metadata": {
    "id": "HpLdqwHAoWD-"
   }
  },
  {
   "cell_type": "code",
   "source": [
    "!python app.py"
   ],
   "metadata": {
    "id": "moWDjjyCXAi8"
   },
   "execution_count": null,
   "outputs": []
  },
  {
   "cell_type": "markdown",
   "source": [
    "---\n",
    "# ⌨️ Command Line Interface\n"
   ],
   "metadata": {
    "id": "_4Ch7ZS7XPLv"
   }
  },
  {
   "cell_type": "markdown",
   "source": [
    "> **Note:** First run will take longer due to initial downloads"
   ],
   "metadata": {
    "id": "DF5ZcoA8wufV"
   }
  },
  {
   "cell_type": "markdown",
   "source": [
    "### ► Single run example\n"
   ],
   "metadata": {
    "id": "l_fjC8r-h-Qe"
   }
  },
  {
   "cell_type": "markdown",
   "source": [
    "> Ensure a click file **{filename}_click.jpg** (or **.png**) exists in input dir, as shown in \"examples/colab\""
   ],
   "metadata": {
    "id": "sUPTT2Z-od4R"
   }
  },
  {
   "cell_type": "code",
   "source": [
    "!python scripts/text_editing_click2mask.py \\\n",
    "    --image_path \"examples/colab/snow.jpg\" \\\n",
    "    --prompt \"a hut\" \\\n",
    "    --output_dir \"outputs\""
   ],
   "metadata": {
    "id": "6daRjrfAiECz"
   },
   "execution_count": null,
   "outputs": []
  },
  {
   "cell_type": "markdown",
   "source": [
    "### ►► Batch run example"
   ],
   "metadata": {
    "id": "8KeGGjEgiSIv"
   }
  },
  {
   "cell_type": "markdown",
   "source": [
    "> Ensure click files **{filename}_click.jpg** (or **.png**) exist for each input image, as shown in \"examples/colab\".\n",
    "\n",
    ">Instead of the loop approach shown below, you can also modify the script internally for native batch processing."
   ],
   "metadata": {
    "id": "kBWZpMk9ojNk"
   }
  },
  {
   "cell_type": "code",
   "source": [
    "# Input setup\n",
    "image_filenames = [\"dogs.jpg\", \"sea.jpg\", \"snow.jpg\"]\n",
    "prompts = [\"bonfire\", \"a big ship\", \"a hut\"]\n",
    "input_dir = \"examples/colab/\"\n",
    "out_dir = \"outputs/batch\"\n",
    "\n",
    "# Loop\n",
    "for filename, prompt in zip(image_filenames, prompts):\n",
    "    img_path = f\"{input_dir}/{filename}\"\n",
    "\n",
    "    print(f\"Processing {img_path}\")\n",
    "\n",
    "    !python scripts/text_editing_click2mask.py \\\n",
    "        --image_path \"{img_path}\" \\\n",
    "        --prompt \"{prompt}\" \\\n",
    "        --output_dir \"{out_dir}\""
   ],
   "metadata": {
    "id": "1iZvXHyRgCvt"
   },
   "execution_count": null,
   "outputs": []
  },
  {
   "cell_type": "markdown",
   "source": [
    "<br><br>\n",
    "\n",
    "---\n",
    "# Output Examples and References\n",
    "\n",
    "## Generated Examples\n",
    "\n",
    "<img src=\"https://raw.githubusercontent.com/omeregev/click2mask/main/imgs/results.jpg\" alt=\"Click2Mask Results\" width=\"700\"/>\n",
    "\n",
    "## Comparison with SOTA Methods\n",
    "<img src=\"https://raw.githubusercontent.com/omeregev/click2mask/main/imgs/compare.png\" alt=\"Comparison\" width=\"700\"/>\n",
    "\n",
    "## Citation\n",
    "\n",
    "```bibtex\n",
    "@misc{regev2024click2masklocaleditingdynamic,\n",
    "      title={Click2Mask: Local Editing with Dynamic Mask Generation},\n",
    "      author={Omer Regev and Omri Avrahami and Dani Lischinski},\n",
    "      year={2024},\n",
    "      eprint={2409.08272},\n",
    "      archivePrefix={arXiv},\n",
    "      primaryClass={cs.CV},\n",
    "      url={https://arxiv.org/abs/2409.08272},\n",
    "}\n",
    "```\n",
    "\n",
    "This code is based on\n",
    "[Blended Latent Diffusion](https://github.com/omriav/blended-latent-diffusion/tree/master)\n",
    "and on [Stable Diffusion](https://github.com/CompVis/stable-diffusion)."
   ],
   "metadata": {
    "id": "g6dJyf2fnGvm"
   }
  }
 ],
 "metadata": {
  "colab": {
   "provenance": [],
   "gpuType": "T4",
   "collapsed_sections": [
    "Oyxe8WfjKpeh",
    "Ca14fQPrLkpS",
    "LxNZBdLtWcCE",
    "_4Ch7ZS7XPLv",
    "l_fjC8r-h-Qe",
    "8KeGGjEgiSIv",
    "g6dJyf2fnGvm"
   ]
  },
  "kernelspec": {
   "display_name": "Python 3",
   "name": "python3"
  },
  "language_info": {
   "name": "python"
  },
  "accelerator": "GPU"
 },
 "nbformat": 4,
 "nbformat_minor": 0
}
